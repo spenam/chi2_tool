{
 "cells": [
  {
   "cell_type": "code",
   "execution_count": 4,
   "id": "258f689f-4bea-47eb-a4d4-a8ff54088e54",
   "metadata": {},
   "outputs": [],
   "source": [
    "import numpy as np\n",
    "import uproot\n",
    "import matplotlib.pyplot as plt\n",
    "import matplotlib as mpl\n",
    "#from functions import *\n"
   ]
  },
  {
   "cell_type": "code",
   "execution_count": 5,
   "id": "55442823-9fba-4749-857a-6c8ac7d2c106",
   "metadata": {},
   "outputs": [],
   "source": [
    "f = uproot.open(\"/sps/km3net/users/alflazo/dstProd/v7.1_v7.2_jsh/mcv7.2.gsg_muon-CC_1-100GeV.km3sim.jorcarec.jsh.aanet.dst_merged.root\")"
   ]
  },
  {
   "cell_type": "code",
   "execution_count": 6,
   "id": "c8689a84-1507-4699-a1da-b619d2bff323",
   "metadata": {},
   "outputs": [],
   "source": [
    "E = f['E:Evt/mc_trks/mc_trks.E'].array()[:,0].to_numpy()"
   ]
  },
  {
   "cell_type": "code",
   "execution_count": 7,
   "id": "9b8d01b5-0b53-489c-8b44-ef936c72b484",
   "metadata": {},
   "outputs": [
    {
     "data": {
      "text/plain": [
       "['Evt',\n",
       " 'Evt/AAObject',\n",
       " 'Evt/AAObject/TObject',\n",
       " 'Evt/AAObject/TObject/fUniqueID',\n",
       " 'Evt/AAObject/TObject/fBits',\n",
       " 'Evt/AAObject/usr',\n",
       " 'Evt/AAObject/usr_names',\n",
       " 'Evt/AAObject/any',\n",
       " 'Evt/id',\n",
       " 'Evt/det_id',\n",
       " 'Evt/mc_id',\n",
       " 'Evt/run_id',\n",
       " 'Evt/mc_run_id',\n",
       " 'Evt/frame_index',\n",
       " 'Evt/trigger_mask',\n",
       " 'Evt/trigger_counter',\n",
       " 'Evt/overlays',\n",
       " 'Evt/t',\n",
       " 'Evt/t/t.fSec',\n",
       " 'Evt/t/t.fNanoSec',\n",
       " 'Evt/hits',\n",
       " 'Evt/hits/hits.fUniqueID',\n",
       " 'Evt/hits/hits.fBits',\n",
       " 'Evt/hits/hits.id',\n",
       " 'Evt/hits/hits.dom_id',\n",
       " 'Evt/hits/hits.channel_id',\n",
       " 'Evt/hits/hits.tdc',\n",
       " 'Evt/hits/hits.tot',\n",
       " 'Evt/hits/hits.trig',\n",
       " 'Evt/hits/hits.pmt_id',\n",
       " 'Evt/hits/hits.t',\n",
       " 'Evt/hits/hits.a',\n",
       " 'Evt/hits/hits.pos.x',\n",
       " 'Evt/hits/hits.pos.y',\n",
       " 'Evt/hits/hits.pos.z',\n",
       " 'Evt/hits/hits.dir.x',\n",
       " 'Evt/hits/hits.dir.y',\n",
       " 'Evt/hits/hits.dir.z',\n",
       " 'Evt/hits/hits.type',\n",
       " 'Evt/hits/hits.origin',\n",
       " 'Evt/hits/hits.pattern_flags',\n",
       " 'Evt/trks',\n",
       " 'Evt/trks/trks.fUniqueID',\n",
       " 'Evt/trks/trks.fBits',\n",
       " 'Evt/trks/trks.usr',\n",
       " 'Evt/trks/trks.usr_names',\n",
       " 'Evt/trks/trks.any',\n",
       " 'Evt/trks/trks.id',\n",
       " 'Evt/trks/trks.pos.x',\n",
       " 'Evt/trks/trks.pos.y',\n",
       " 'Evt/trks/trks.pos.z',\n",
       " 'Evt/trks/trks.dir.x',\n",
       " 'Evt/trks/trks.dir.y',\n",
       " 'Evt/trks/trks.dir.z',\n",
       " 'Evt/trks/trks.t',\n",
       " 'Evt/trks/trks.E',\n",
       " 'Evt/trks/trks.len',\n",
       " 'Evt/trks/trks.lik',\n",
       " 'Evt/trks/trks.type',\n",
       " 'Evt/trks/trks.rec_type',\n",
       " 'Evt/trks/trks.rec_stages',\n",
       " 'Evt/trks/trks.status',\n",
       " 'Evt/trks/trks.mother_id',\n",
       " 'Evt/trks/trks.counter',\n",
       " 'Evt/trks/trks.fitinf',\n",
       " 'Evt/trks/trks.hit_ids',\n",
       " 'Evt/trks/trks.error_matrix',\n",
       " 'Evt/trks/trks.comment',\n",
       " 'Evt/w',\n",
       " 'Evt/w2list',\n",
       " 'Evt/w3list',\n",
       " 'Evt/mc_event_time',\n",
       " 'Evt/mc_event_time/mc_event_time.fSec',\n",
       " 'Evt/mc_event_time/mc_event_time.fNanoSec',\n",
       " 'Evt/mc_t',\n",
       " 'Evt/mc_hits',\n",
       " 'Evt/mc_hits/mc_hits.fUniqueID',\n",
       " 'Evt/mc_hits/mc_hits.fBits',\n",
       " 'Evt/mc_hits/mc_hits.id',\n",
       " 'Evt/mc_hits/mc_hits.dom_id',\n",
       " 'Evt/mc_hits/mc_hits.channel_id',\n",
       " 'Evt/mc_hits/mc_hits.tdc',\n",
       " 'Evt/mc_hits/mc_hits.tot',\n",
       " 'Evt/mc_hits/mc_hits.trig',\n",
       " 'Evt/mc_hits/mc_hits.pmt_id',\n",
       " 'Evt/mc_hits/mc_hits.t',\n",
       " 'Evt/mc_hits/mc_hits.a',\n",
       " 'Evt/mc_hits/mc_hits.pos.x',\n",
       " 'Evt/mc_hits/mc_hits.pos.y',\n",
       " 'Evt/mc_hits/mc_hits.pos.z',\n",
       " 'Evt/mc_hits/mc_hits.dir.x',\n",
       " 'Evt/mc_hits/mc_hits.dir.y',\n",
       " 'Evt/mc_hits/mc_hits.dir.z',\n",
       " 'Evt/mc_hits/mc_hits.type',\n",
       " 'Evt/mc_hits/mc_hits.origin',\n",
       " 'Evt/mc_hits/mc_hits.pattern_flags',\n",
       " 'Evt/mc_trks',\n",
       " 'Evt/mc_trks/mc_trks.fUniqueID',\n",
       " 'Evt/mc_trks/mc_trks.fBits',\n",
       " 'Evt/mc_trks/mc_trks.usr',\n",
       " 'Evt/mc_trks/mc_trks.usr_names',\n",
       " 'Evt/mc_trks/mc_trks.any',\n",
       " 'Evt/mc_trks/mc_trks.id',\n",
       " 'Evt/mc_trks/mc_trks.pos.x',\n",
       " 'Evt/mc_trks/mc_trks.pos.y',\n",
       " 'Evt/mc_trks/mc_trks.pos.z',\n",
       " 'Evt/mc_trks/mc_trks.dir.x',\n",
       " 'Evt/mc_trks/mc_trks.dir.y',\n",
       " 'Evt/mc_trks/mc_trks.dir.z',\n",
       " 'Evt/mc_trks/mc_trks.t',\n",
       " 'Evt/mc_trks/mc_trks.E',\n",
       " 'Evt/mc_trks/mc_trks.len',\n",
       " 'Evt/mc_trks/mc_trks.lik',\n",
       " 'Evt/mc_trks/mc_trks.type',\n",
       " 'Evt/mc_trks/mc_trks.rec_type',\n",
       " 'Evt/mc_trks/mc_trks.rec_stages',\n",
       " 'Evt/mc_trks/mc_trks.status',\n",
       " 'Evt/mc_trks/mc_trks.mother_id',\n",
       " 'Evt/mc_trks/mc_trks.counter',\n",
       " 'Evt/mc_trks/mc_trks.fitinf',\n",
       " 'Evt/mc_trks/mc_trks.hit_ids',\n",
       " 'Evt/mc_trks/mc_trks.error_matrix',\n",
       " 'Evt/mc_trks/mc_trks.comment',\n",
       " 'Evt/comment',\n",
       " 'Evt/index',\n",
       " 'Evt/flags']"
      ]
     },
     "execution_count": 7,
     "metadata": {},
     "output_type": "execute_result"
    }
   ],
   "source": [
    "f['E'].keys()"
   ]
  },
  {
   "cell_type": "code",
   "execution_count": 14,
   "id": "5d341a7f-ecbc-412c-8088-61b5b32e7f06",
   "metadata": {},
   "outputs": [
    {
     "data": {
      "text/plain": [
       "['sum_mc_trks',\n",
       " 'sum_mc_trks/ntrks',\n",
       " 'sum_mc_trks/Etot',\n",
       " 'sum_mc_trks/Emax',\n",
       " 'sum_mc_trks/Evis',\n",
       " 'sum_mc_trks/tmuon',\n",
       " 'sum_mc_trks/tmuon/tmuon.AAObject',\n",
       " 'sum_mc_trks/tmuon/tmuon.AAObject/tmuon.TObject',\n",
       " 'sum_mc_trks/tmuon/tmuon.AAObject/tmuon.TObject/tmuon.fUniqueID',\n",
       " 'sum_mc_trks/tmuon/tmuon.AAObject/tmuon.TObject/tmuon.fBits',\n",
       " 'sum_mc_trks/tmuon/tmuon.AAObject/tmuon.usr',\n",
       " 'sum_mc_trks/tmuon/tmuon.AAObject/tmuon.usr_names',\n",
       " 'sum_mc_trks/tmuon/tmuon.AAObject/tmuon.any',\n",
       " 'sum_mc_trks/tmuon/tmuon.id',\n",
       " 'sum_mc_trks/tmuon/tmuon.pos.x',\n",
       " 'sum_mc_trks/tmuon/tmuon.pos.y',\n",
       " 'sum_mc_trks/tmuon/tmuon.pos.z',\n",
       " 'sum_mc_trks/tmuon/tmuon.dir.x',\n",
       " 'sum_mc_trks/tmuon/tmuon.dir.y',\n",
       " 'sum_mc_trks/tmuon/tmuon.dir.z',\n",
       " 'sum_mc_trks/tmuon/tmuon.t',\n",
       " 'sum_mc_trks/tmuon/tmuon.E',\n",
       " 'sum_mc_trks/tmuon/tmuon.len',\n",
       " 'sum_mc_trks/tmuon/tmuon.lik',\n",
       " 'sum_mc_trks/tmuon/tmuon.type',\n",
       " 'sum_mc_trks/tmuon/tmuon.rec_type',\n",
       " 'sum_mc_trks/tmuon/tmuon.rec_stages',\n",
       " 'sum_mc_trks/tmuon/tmuon.status',\n",
       " 'sum_mc_trks/tmuon/tmuon.mother_id',\n",
       " 'sum_mc_trks/tmuon/tmuon.counter',\n",
       " 'sum_mc_trks/tmuon/tmuon.fitinf',\n",
       " 'sum_mc_trks/tmuon/tmuon.hit_ids',\n",
       " 'sum_mc_trks/tmuon/tmuon.error_matrix',\n",
       " 'sum_mc_trks/tmuon/tmuon.comment',\n",
       " 'sum_mc_hits',\n",
       " 'sum_mc_hits/nhits',\n",
       " 'sum_mc_hits/atot',\n",
       " 'sum_mc_hits/tmin',\n",
       " 'sum_mc_hits/tmax',\n",
       " 'sum_mc_hits/ndoms',\n",
       " 'sum_mc_hits/nlines',\n",
       " 'sum_mc_nu',\n",
       " 'sum_mc_nu/bx',\n",
       " 'sum_mc_nu/by',\n",
       " 'sum_mc_nu/ichan',\n",
       " 'sum_mc_nu/cc',\n",
       " 'sum_mc_nu/atm_flux_numu',\n",
       " 'sum_mc_nu/atm_flux_nue',\n",
       " 'sum_mc_nu/posc_from_numu',\n",
       " 'sum_mc_nu/posc_from_nue',\n",
       " 'sum_mc_nu/atm_flux',\n",
       " 'sum_mc_nu/path_length',\n",
       " 'sum_mc_evt',\n",
       " 'sum_mc_evt/weight',\n",
       " 'sum_mc_evt/weight_noOsc',\n",
       " 'sum_mc_evt/livetime_DAQ',\n",
       " 'sum_mc_evt/livetime_sim',\n",
       " 'sum_mc_evt/n_gen',\n",
       " 'sum_mc_evt/E_min_gen',\n",
       " 'sum_mc_evt/E_max_gen',\n",
       " 'sum_mc_evt/MC_run',\n",
       " 'sum_hits',\n",
       " 'sum_hits/nhits',\n",
       " 'sum_hits/atot',\n",
       " 'sum_hits/tmin',\n",
       " 'sum_hits/tmax',\n",
       " 'sum_hits/ndoms',\n",
       " 'sum_hits/nlines',\n",
       " 'sum_trig_hits',\n",
       " 'sum_trig_hits/nhits',\n",
       " 'sum_trig_hits/atot',\n",
       " 'sum_trig_hits/tmin',\n",
       " 'sum_trig_hits/tmax',\n",
       " 'sum_trig_hits/ndoms',\n",
       " 'sum_trig_hits/nlines',\n",
       " 'coords',\n",
       " 'coords/mjd',\n",
       " 'coords/nu_ra',\n",
       " 'coords/nu_dec',\n",
       " 'coords/trackfit_ra',\n",
       " 'coords/trackfit_dec',\n",
       " 'coords/showerfit_ra',\n",
       " 'coords/showerfit_dec',\n",
       " 'crkv_hits',\n",
       " 'crkv_hits/crkv_hits.nhits[3]',\n",
       " 'crkv_hits/crkv_hits.nhits_20m[3]',\n",
       " 'crkv_hits/crkv_hits.nhits_50m[3]',\n",
       " 'crkv_hits/crkv_hits.nhits_100m[3]',\n",
       " 'crkv_hits/crkv_hits.nhits_200m[3]',\n",
       " 'crkv_hits/crkv_hits.sumtot[3]',\n",
       " 'crkv_hits/crkv_hits.closest[3]',\n",
       " 'crkv_hits/crkv_hits.furthest[3]',\n",
       " 'feat_Neutrino2020',\n",
       " 'feat_Neutrino2020/cherCond_n_doms',\n",
       " 'feat_Neutrino2020/cherCond_n_hits_dnf',\n",
       " 'feat_Neutrino2020/cherCond_n_hits_upf',\n",
       " 'feat_Neutrino2020/cherCond_n_hits_dnMup',\n",
       " 'feat_Neutrino2020/cherCond_n_doms_trig',\n",
       " 'feat_Neutrino2020/cherCond_n_hits_trig_dnf',\n",
       " 'feat_Neutrino2020/cherCond_n_hits_trig_upf',\n",
       " 'feat_Neutrino2020/cherCond_n_hits_trig_dnMup',\n",
       " 'feat_Neutrino2020/cherCond_hits_meanZposition',\n",
       " 'feat_Neutrino2020/cherCond_hits_trig_meanZposition',\n",
       " 'feat_Neutrino2020/maximumToT_triggerHit',\n",
       " 'feat_Neutrino2020/nTriggerHits',\n",
       " 'feat_Neutrino2020/meanZhitTrig',\n",
       " 'feat_Neutrino2020/n_hits_earlyTrig',\n",
       " 'feat_Neutrino2020/gandalf_Qup',\n",
       " 'feat_Neutrino2020/gandalf_Qdn',\n",
       " 'feat_Neutrino2020/gandalf_nHits',\n",
       " 'feat_Neutrino2020/gandalf_pos_r',\n",
       " 'feat_Neutrino2020/QupOvernHits',\n",
       " 'feat_Neutrino2020/QupMinusQdn',\n",
       " 'feat_Neutrino2020/dClosestApproach',\n",
       " 'feat_Neutrino2020/zClosestApproach',\n",
       " 'feat_Neutrino2020/minDomZ',\n",
       " 'sum_jpptrack',\n",
       " 'sum_jpptrack/ntrks',\n",
       " 'sum_jpptrack/cos_zenith_min',\n",
       " 'sum_jpptrack/cos_zenith_max',\n",
       " 'sum_jpptrack/n_within_1deg',\n",
       " 'sum_jpptrack/n_up',\n",
       " 'sum_jpptrack/n_down',\n",
       " 'sum_jpptrack/max_lik_up',\n",
       " 'sum_jpptrack/max_lik_down',\n",
       " 'sum_jppshower',\n",
       " 'sum_jppshower/prefit_posfit_distance',\n",
       " 'sum_jppshower/prefit_posfit_dt',\n",
       " 'sum_jppshower/ratio_prefit_fits_near_best',\n",
       " 'sum_jppshower/mean_tres_selected_hits',\n",
       " 'sum_jppshower/n_selected_hits',\n",
       " 'sum_jppshower/n_prefit',\n",
       " 'sum_jppshower/n_near_prefit']"
      ]
     },
     "execution_count": 14,
     "metadata": {},
     "output_type": "execute_result"
    }
   ],
   "source": [
    "f['T'].keys()"
   ]
  },
  {
   "cell_type": "code",
   "execution_count": 10,
   "id": "d936b4bf-c4d4-403d-8095-2dc64e3bc701",
   "metadata": {},
   "outputs": [
    {
     "data": {
      "text/plain": [
       "<Array [[14, 13], [14, 13, ... 13], [14, 13]] type='255065 * var * int32'>"
      ]
     },
     "execution_count": 10,
     "metadata": {},
     "output_type": "execute_result"
    }
   ],
   "source": [
    "f['E:Evt/mc_trks/mc_trks.type'].array()"
   ]
  },
  {
   "cell_type": "code",
   "execution_count": 13,
   "id": "d6811453-6d3c-473d-ba45-7bb74efeae90",
   "metadata": {},
   "outputs": [
    {
     "data": {
      "text/plain": [
       "<Array [[-0.0278, 0.235], ... [-0.919, -0.804]] type='255065 * var * float64'>"
      ]
     },
     "execution_count": 13,
     "metadata": {},
     "output_type": "execute_result"
    }
   ],
   "source": [
    "f['E:Evt/mc_trks/mc_trks.dir.z'].array()"
   ]
  },
  {
   "cell_type": "code",
   "execution_count": 24,
   "id": "8efd22f7-2654-4611-98b9-840df0982f7a",
   "metadata": {},
   "outputs": [
    {
     "data": {
      "text/plain": [
       "array([0.00536603, 0.0221872 , 0.02581901, ..., 0.02973675, 0.04551909,\n",
       "       0.04311249], dtype=float32)"
      ]
     },
     "execution_count": 24,
     "metadata": {},
     "output_type": "execute_result"
    }
   ],
   "source": [
    "f['T:sum_mc_evt/weight_noOsc'].array().to_numpy()"
   ]
  },
  {
   "cell_type": "code",
   "execution_count": 20,
   "id": "8576110e-0781-44b8-8e7c-f13531e86745",
   "metadata": {},
   "outputs": [
    {
     "name": "stdout",
     "output_type": "stream",
     "text": [
      "[5.47164783e-03 1.03617646e+03 2.88454328e+02 ... 1.62719499e-01\n",
      " 4.87858732e-01 5.94054040e+00]\n"
     ]
    }
   ],
   "source": [
    "print(f['E:Evt/w'].array()[:,1].to_numpy())"
   ]
  },
  {
   "cell_type": "code",
   "execution_count": null,
   "id": "cc18175f-4a07-431a-aa56-339ae449e9e1",
   "metadata": {},
   "outputs": [],
   "source": []
  }
 ],
 "metadata": {
  "kernelspec": {
   "display_name": "km3net-env-1.9",
   "language": "python",
   "name": "km3net-env-1.9"
  },
  "language_info": {
   "codemirror_mode": {
    "name": "ipython",
    "version": 3
   },
   "file_extension": ".py",
   "mimetype": "text/x-python",
   "name": "python",
   "nbconvert_exporter": "python",
   "pygments_lexer": "ipython3",
   "version": "3.7.5"
  }
 },
 "nbformat": 4,
 "nbformat_minor": 5
}
